{
 "cells": [
  {
   "cell_type": "code",
   "execution_count": 1,
   "id": "e9e8eb7f-101e-4749-9ef8-ef53dbf689fe",
   "metadata": {},
   "outputs": [],
   "source": [
    "#import required packages\n",
    "import pandas as pd\n",
    "import statistics\n",
    "import matplotlib.pyplot as plt\n",
    "import seaborn as sns\n",
    "import math\n",
    "import numpy as np"
   ]
  },
  {
   "cell_type": "code",
   "execution_count": 2,
   "id": "76561da3-391a-4d74-ace4-60c723117501",
   "metadata": {},
   "outputs": [],
   "source": [
    "#load the csv file\n",
    "df = pd.read_csv('Automobile_data.csv')"
   ]
  },
  {
   "cell_type": "code",
   "execution_count": 3,
   "id": "e57c8efd-b627-4069-ae78-82378a4b18d2",
   "metadata": {},
   "outputs": [
    {
     "data": {
      "text/html": [
       "<div>\n",
       "<style scoped>\n",
       "    .dataframe tbody tr th:only-of-type {\n",
       "        vertical-align: middle;\n",
       "    }\n",
       "\n",
       "    .dataframe tbody tr th {\n",
       "        vertical-align: top;\n",
       "    }\n",
       "\n",
       "    .dataframe thead th {\n",
       "        text-align: right;\n",
       "    }\n",
       "</style>\n",
       "<table border=\"1\" class=\"dataframe\">\n",
       "  <thead>\n",
       "    <tr style=\"text-align: right;\">\n",
       "      <th></th>\n",
       "      <th>symboling</th>\n",
       "      <th>normalized-losses</th>\n",
       "      <th>make</th>\n",
       "      <th>fuel-type</th>\n",
       "      <th>aspiration</th>\n",
       "      <th>num-of-doors</th>\n",
       "      <th>body-style</th>\n",
       "      <th>drive-wheels</th>\n",
       "      <th>engine-location</th>\n",
       "      <th>wheel-base</th>\n",
       "      <th>...</th>\n",
       "      <th>engine-size</th>\n",
       "      <th>fuel-system</th>\n",
       "      <th>bore</th>\n",
       "      <th>stroke</th>\n",
       "      <th>compression-ratio</th>\n",
       "      <th>horsepower</th>\n",
       "      <th>peak-rpm</th>\n",
       "      <th>city-mpg</th>\n",
       "      <th>highway-mpg</th>\n",
       "      <th>price</th>\n",
       "    </tr>\n",
       "  </thead>\n",
       "  <tbody>\n",
       "    <tr>\n",
       "      <th>0</th>\n",
       "      <td>3</td>\n",
       "      <td>?</td>\n",
       "      <td>alfa-romero</td>\n",
       "      <td>gas</td>\n",
       "      <td>std</td>\n",
       "      <td>two</td>\n",
       "      <td>convertible</td>\n",
       "      <td>rwd</td>\n",
       "      <td>front</td>\n",
       "      <td>88.6</td>\n",
       "      <td>...</td>\n",
       "      <td>130</td>\n",
       "      <td>mpfi</td>\n",
       "      <td>3.47</td>\n",
       "      <td>2.68</td>\n",
       "      <td>9.0</td>\n",
       "      <td>111</td>\n",
       "      <td>5000</td>\n",
       "      <td>21</td>\n",
       "      <td>27</td>\n",
       "      <td>13495</td>\n",
       "    </tr>\n",
       "    <tr>\n",
       "      <th>1</th>\n",
       "      <td>3</td>\n",
       "      <td>?</td>\n",
       "      <td>alfa-romero</td>\n",
       "      <td>gas</td>\n",
       "      <td>std</td>\n",
       "      <td>two</td>\n",
       "      <td>convertible</td>\n",
       "      <td>rwd</td>\n",
       "      <td>front</td>\n",
       "      <td>88.6</td>\n",
       "      <td>...</td>\n",
       "      <td>130</td>\n",
       "      <td>mpfi</td>\n",
       "      <td>3.47</td>\n",
       "      <td>2.68</td>\n",
       "      <td>9.0</td>\n",
       "      <td>111</td>\n",
       "      <td>5000</td>\n",
       "      <td>21</td>\n",
       "      <td>27</td>\n",
       "      <td>16500</td>\n",
       "    </tr>\n",
       "    <tr>\n",
       "      <th>2</th>\n",
       "      <td>1</td>\n",
       "      <td>?</td>\n",
       "      <td>alfa-romero</td>\n",
       "      <td>gas</td>\n",
       "      <td>std</td>\n",
       "      <td>two</td>\n",
       "      <td>hatchback</td>\n",
       "      <td>rwd</td>\n",
       "      <td>front</td>\n",
       "      <td>94.5</td>\n",
       "      <td>...</td>\n",
       "      <td>152</td>\n",
       "      <td>mpfi</td>\n",
       "      <td>2.68</td>\n",
       "      <td>3.47</td>\n",
       "      <td>9.0</td>\n",
       "      <td>154</td>\n",
       "      <td>5000</td>\n",
       "      <td>19</td>\n",
       "      <td>26</td>\n",
       "      <td>16500</td>\n",
       "    </tr>\n",
       "    <tr>\n",
       "      <th>3</th>\n",
       "      <td>2</td>\n",
       "      <td>164</td>\n",
       "      <td>audi</td>\n",
       "      <td>gas</td>\n",
       "      <td>std</td>\n",
       "      <td>four</td>\n",
       "      <td>sedan</td>\n",
       "      <td>fwd</td>\n",
       "      <td>front</td>\n",
       "      <td>99.8</td>\n",
       "      <td>...</td>\n",
       "      <td>109</td>\n",
       "      <td>mpfi</td>\n",
       "      <td>3.19</td>\n",
       "      <td>3.4</td>\n",
       "      <td>10.0</td>\n",
       "      <td>102</td>\n",
       "      <td>5500</td>\n",
       "      <td>24</td>\n",
       "      <td>30</td>\n",
       "      <td>13950</td>\n",
       "    </tr>\n",
       "    <tr>\n",
       "      <th>4</th>\n",
       "      <td>2</td>\n",
       "      <td>164</td>\n",
       "      <td>audi</td>\n",
       "      <td>gas</td>\n",
       "      <td>std</td>\n",
       "      <td>four</td>\n",
       "      <td>sedan</td>\n",
       "      <td>4wd</td>\n",
       "      <td>front</td>\n",
       "      <td>99.4</td>\n",
       "      <td>...</td>\n",
       "      <td>136</td>\n",
       "      <td>mpfi</td>\n",
       "      <td>3.19</td>\n",
       "      <td>3.4</td>\n",
       "      <td>8.0</td>\n",
       "      <td>115</td>\n",
       "      <td>5500</td>\n",
       "      <td>18</td>\n",
       "      <td>22</td>\n",
       "      <td>17450</td>\n",
       "    </tr>\n",
       "  </tbody>\n",
       "</table>\n",
       "<p>5 rows × 26 columns</p>\n",
       "</div>"
      ],
      "text/plain": [
       "   symboling normalized-losses         make fuel-type aspiration num-of-doors  \\\n",
       "0          3                 ?  alfa-romero       gas        std          two   \n",
       "1          3                 ?  alfa-romero       gas        std          two   \n",
       "2          1                 ?  alfa-romero       gas        std          two   \n",
       "3          2               164         audi       gas        std         four   \n",
       "4          2               164         audi       gas        std         four   \n",
       "\n",
       "    body-style drive-wheels engine-location  wheel-base  ...  engine-size  \\\n",
       "0  convertible          rwd           front        88.6  ...          130   \n",
       "1  convertible          rwd           front        88.6  ...          130   \n",
       "2    hatchback          rwd           front        94.5  ...          152   \n",
       "3        sedan          fwd           front        99.8  ...          109   \n",
       "4        sedan          4wd           front        99.4  ...          136   \n",
       "\n",
       "   fuel-system  bore  stroke compression-ratio horsepower  peak-rpm city-mpg  \\\n",
       "0         mpfi  3.47    2.68               9.0        111      5000       21   \n",
       "1         mpfi  3.47    2.68               9.0        111      5000       21   \n",
       "2         mpfi  2.68    3.47               9.0        154      5000       19   \n",
       "3         mpfi  3.19     3.4              10.0        102      5500       24   \n",
       "4         mpfi  3.19     3.4               8.0        115      5500       18   \n",
       "\n",
       "  highway-mpg  price  \n",
       "0          27  13495  \n",
       "1          27  16500  \n",
       "2          26  16500  \n",
       "3          30  13950  \n",
       "4          22  17450  \n",
       "\n",
       "[5 rows x 26 columns]"
      ]
     },
     "execution_count": 3,
     "metadata": {},
     "output_type": "execute_result"
    }
   ],
   "source": [
    "#display first 5 values\n",
    "df.head()"
   ]
  },
  {
   "cell_type": "code",
   "execution_count": 4,
   "id": "eb093e71-5acf-48f0-849b-0fcfbf73c73e",
   "metadata": {},
   "outputs": [
    {
     "data": {
      "text/html": [
       "<div>\n",
       "<style scoped>\n",
       "    .dataframe tbody tr th:only-of-type {\n",
       "        vertical-align: middle;\n",
       "    }\n",
       "\n",
       "    .dataframe tbody tr th {\n",
       "        vertical-align: top;\n",
       "    }\n",
       "\n",
       "    .dataframe thead th {\n",
       "        text-align: right;\n",
       "    }\n",
       "</style>\n",
       "<table border=\"1\" class=\"dataframe\">\n",
       "  <thead>\n",
       "    <tr style=\"text-align: right;\">\n",
       "      <th></th>\n",
       "      <th>symboling</th>\n",
       "      <th>normalized-losses</th>\n",
       "      <th>make</th>\n",
       "      <th>fuel-type</th>\n",
       "      <th>aspiration</th>\n",
       "      <th>num-of-doors</th>\n",
       "      <th>body-style</th>\n",
       "      <th>drive-wheels</th>\n",
       "      <th>engine-location</th>\n",
       "      <th>wheel-base</th>\n",
       "      <th>...</th>\n",
       "      <th>engine-size</th>\n",
       "      <th>fuel-system</th>\n",
       "      <th>bore</th>\n",
       "      <th>stroke</th>\n",
       "      <th>compression-ratio</th>\n",
       "      <th>horsepower</th>\n",
       "      <th>peak-rpm</th>\n",
       "      <th>city-mpg</th>\n",
       "      <th>highway-mpg</th>\n",
       "      <th>price</th>\n",
       "    </tr>\n",
       "  </thead>\n",
       "  <tbody>\n",
       "    <tr>\n",
       "      <th>195</th>\n",
       "      <td>-1</td>\n",
       "      <td>74</td>\n",
       "      <td>volvo</td>\n",
       "      <td>gas</td>\n",
       "      <td>std</td>\n",
       "      <td>four</td>\n",
       "      <td>wagon</td>\n",
       "      <td>rwd</td>\n",
       "      <td>front</td>\n",
       "      <td>104.3</td>\n",
       "      <td>...</td>\n",
       "      <td>141</td>\n",
       "      <td>mpfi</td>\n",
       "      <td>3.78</td>\n",
       "      <td>3.15</td>\n",
       "      <td>9.5</td>\n",
       "      <td>114</td>\n",
       "      <td>5400</td>\n",
       "      <td>23</td>\n",
       "      <td>28</td>\n",
       "      <td>13415</td>\n",
       "    </tr>\n",
       "    <tr>\n",
       "      <th>196</th>\n",
       "      <td>-2</td>\n",
       "      <td>103</td>\n",
       "      <td>volvo</td>\n",
       "      <td>gas</td>\n",
       "      <td>std</td>\n",
       "      <td>four</td>\n",
       "      <td>sedan</td>\n",
       "      <td>rwd</td>\n",
       "      <td>front</td>\n",
       "      <td>104.3</td>\n",
       "      <td>...</td>\n",
       "      <td>141</td>\n",
       "      <td>mpfi</td>\n",
       "      <td>3.78</td>\n",
       "      <td>3.15</td>\n",
       "      <td>9.5</td>\n",
       "      <td>114</td>\n",
       "      <td>5400</td>\n",
       "      <td>24</td>\n",
       "      <td>28</td>\n",
       "      <td>15985</td>\n",
       "    </tr>\n",
       "    <tr>\n",
       "      <th>197</th>\n",
       "      <td>-1</td>\n",
       "      <td>74</td>\n",
       "      <td>volvo</td>\n",
       "      <td>gas</td>\n",
       "      <td>std</td>\n",
       "      <td>four</td>\n",
       "      <td>wagon</td>\n",
       "      <td>rwd</td>\n",
       "      <td>front</td>\n",
       "      <td>104.3</td>\n",
       "      <td>...</td>\n",
       "      <td>141</td>\n",
       "      <td>mpfi</td>\n",
       "      <td>3.78</td>\n",
       "      <td>3.15</td>\n",
       "      <td>9.5</td>\n",
       "      <td>114</td>\n",
       "      <td>5400</td>\n",
       "      <td>24</td>\n",
       "      <td>28</td>\n",
       "      <td>16515</td>\n",
       "    </tr>\n",
       "    <tr>\n",
       "      <th>198</th>\n",
       "      <td>-2</td>\n",
       "      <td>103</td>\n",
       "      <td>volvo</td>\n",
       "      <td>gas</td>\n",
       "      <td>turbo</td>\n",
       "      <td>four</td>\n",
       "      <td>sedan</td>\n",
       "      <td>rwd</td>\n",
       "      <td>front</td>\n",
       "      <td>104.3</td>\n",
       "      <td>...</td>\n",
       "      <td>130</td>\n",
       "      <td>mpfi</td>\n",
       "      <td>3.62</td>\n",
       "      <td>3.15</td>\n",
       "      <td>7.5</td>\n",
       "      <td>162</td>\n",
       "      <td>5100</td>\n",
       "      <td>17</td>\n",
       "      <td>22</td>\n",
       "      <td>18420</td>\n",
       "    </tr>\n",
       "    <tr>\n",
       "      <th>199</th>\n",
       "      <td>-1</td>\n",
       "      <td>74</td>\n",
       "      <td>volvo</td>\n",
       "      <td>gas</td>\n",
       "      <td>turbo</td>\n",
       "      <td>four</td>\n",
       "      <td>wagon</td>\n",
       "      <td>rwd</td>\n",
       "      <td>front</td>\n",
       "      <td>104.3</td>\n",
       "      <td>...</td>\n",
       "      <td>130</td>\n",
       "      <td>mpfi</td>\n",
       "      <td>3.62</td>\n",
       "      <td>3.15</td>\n",
       "      <td>7.5</td>\n",
       "      <td>162</td>\n",
       "      <td>5100</td>\n",
       "      <td>17</td>\n",
       "      <td>22</td>\n",
       "      <td>18950</td>\n",
       "    </tr>\n",
       "    <tr>\n",
       "      <th>200</th>\n",
       "      <td>-1</td>\n",
       "      <td>95</td>\n",
       "      <td>volvo</td>\n",
       "      <td>gas</td>\n",
       "      <td>std</td>\n",
       "      <td>four</td>\n",
       "      <td>sedan</td>\n",
       "      <td>rwd</td>\n",
       "      <td>front</td>\n",
       "      <td>109.1</td>\n",
       "      <td>...</td>\n",
       "      <td>141</td>\n",
       "      <td>mpfi</td>\n",
       "      <td>3.78</td>\n",
       "      <td>3.15</td>\n",
       "      <td>9.5</td>\n",
       "      <td>114</td>\n",
       "      <td>5400</td>\n",
       "      <td>23</td>\n",
       "      <td>28</td>\n",
       "      <td>16845</td>\n",
       "    </tr>\n",
       "    <tr>\n",
       "      <th>201</th>\n",
       "      <td>-1</td>\n",
       "      <td>95</td>\n",
       "      <td>volvo</td>\n",
       "      <td>gas</td>\n",
       "      <td>turbo</td>\n",
       "      <td>four</td>\n",
       "      <td>sedan</td>\n",
       "      <td>rwd</td>\n",
       "      <td>front</td>\n",
       "      <td>109.1</td>\n",
       "      <td>...</td>\n",
       "      <td>141</td>\n",
       "      <td>mpfi</td>\n",
       "      <td>3.78</td>\n",
       "      <td>3.15</td>\n",
       "      <td>8.7</td>\n",
       "      <td>160</td>\n",
       "      <td>5300</td>\n",
       "      <td>19</td>\n",
       "      <td>25</td>\n",
       "      <td>19045</td>\n",
       "    </tr>\n",
       "    <tr>\n",
       "      <th>202</th>\n",
       "      <td>-1</td>\n",
       "      <td>95</td>\n",
       "      <td>volvo</td>\n",
       "      <td>gas</td>\n",
       "      <td>std</td>\n",
       "      <td>four</td>\n",
       "      <td>sedan</td>\n",
       "      <td>rwd</td>\n",
       "      <td>front</td>\n",
       "      <td>109.1</td>\n",
       "      <td>...</td>\n",
       "      <td>173</td>\n",
       "      <td>mpfi</td>\n",
       "      <td>3.58</td>\n",
       "      <td>2.87</td>\n",
       "      <td>8.8</td>\n",
       "      <td>134</td>\n",
       "      <td>5500</td>\n",
       "      <td>18</td>\n",
       "      <td>23</td>\n",
       "      <td>21485</td>\n",
       "    </tr>\n",
       "    <tr>\n",
       "      <th>203</th>\n",
       "      <td>-1</td>\n",
       "      <td>95</td>\n",
       "      <td>volvo</td>\n",
       "      <td>diesel</td>\n",
       "      <td>turbo</td>\n",
       "      <td>four</td>\n",
       "      <td>sedan</td>\n",
       "      <td>rwd</td>\n",
       "      <td>front</td>\n",
       "      <td>109.1</td>\n",
       "      <td>...</td>\n",
       "      <td>145</td>\n",
       "      <td>idi</td>\n",
       "      <td>3.01</td>\n",
       "      <td>3.4</td>\n",
       "      <td>23.0</td>\n",
       "      <td>106</td>\n",
       "      <td>4800</td>\n",
       "      <td>26</td>\n",
       "      <td>27</td>\n",
       "      <td>22470</td>\n",
       "    </tr>\n",
       "    <tr>\n",
       "      <th>204</th>\n",
       "      <td>-1</td>\n",
       "      <td>95</td>\n",
       "      <td>volvo</td>\n",
       "      <td>gas</td>\n",
       "      <td>turbo</td>\n",
       "      <td>four</td>\n",
       "      <td>sedan</td>\n",
       "      <td>rwd</td>\n",
       "      <td>front</td>\n",
       "      <td>109.1</td>\n",
       "      <td>...</td>\n",
       "      <td>141</td>\n",
       "      <td>mpfi</td>\n",
       "      <td>3.78</td>\n",
       "      <td>3.15</td>\n",
       "      <td>9.5</td>\n",
       "      <td>114</td>\n",
       "      <td>5400</td>\n",
       "      <td>19</td>\n",
       "      <td>25</td>\n",
       "      <td>22625</td>\n",
       "    </tr>\n",
       "  </tbody>\n",
       "</table>\n",
       "<p>10 rows × 26 columns</p>\n",
       "</div>"
      ],
      "text/plain": [
       "     symboling normalized-losses   make fuel-type aspiration num-of-doors  \\\n",
       "195         -1                74  volvo       gas        std         four   \n",
       "196         -2               103  volvo       gas        std         four   \n",
       "197         -1                74  volvo       gas        std         four   \n",
       "198         -2               103  volvo       gas      turbo         four   \n",
       "199         -1                74  volvo       gas      turbo         four   \n",
       "200         -1                95  volvo       gas        std         four   \n",
       "201         -1                95  volvo       gas      turbo         four   \n",
       "202         -1                95  volvo       gas        std         four   \n",
       "203         -1                95  volvo    diesel      turbo         four   \n",
       "204         -1                95  volvo       gas      turbo         four   \n",
       "\n",
       "    body-style drive-wheels engine-location  wheel-base  ...  engine-size  \\\n",
       "195      wagon          rwd           front       104.3  ...          141   \n",
       "196      sedan          rwd           front       104.3  ...          141   \n",
       "197      wagon          rwd           front       104.3  ...          141   \n",
       "198      sedan          rwd           front       104.3  ...          130   \n",
       "199      wagon          rwd           front       104.3  ...          130   \n",
       "200      sedan          rwd           front       109.1  ...          141   \n",
       "201      sedan          rwd           front       109.1  ...          141   \n",
       "202      sedan          rwd           front       109.1  ...          173   \n",
       "203      sedan          rwd           front       109.1  ...          145   \n",
       "204      sedan          rwd           front       109.1  ...          141   \n",
       "\n",
       "     fuel-system  bore  stroke compression-ratio horsepower  peak-rpm  \\\n",
       "195         mpfi  3.78    3.15               9.5        114      5400   \n",
       "196         mpfi  3.78    3.15               9.5        114      5400   \n",
       "197         mpfi  3.78    3.15               9.5        114      5400   \n",
       "198         mpfi  3.62    3.15               7.5        162      5100   \n",
       "199         mpfi  3.62    3.15               7.5        162      5100   \n",
       "200         mpfi  3.78    3.15               9.5        114      5400   \n",
       "201         mpfi  3.78    3.15               8.7        160      5300   \n",
       "202         mpfi  3.58    2.87               8.8        134      5500   \n",
       "203          idi  3.01     3.4              23.0        106      4800   \n",
       "204         mpfi  3.78    3.15               9.5        114      5400   \n",
       "\n",
       "    city-mpg highway-mpg  price  \n",
       "195       23          28  13415  \n",
       "196       24          28  15985  \n",
       "197       24          28  16515  \n",
       "198       17          22  18420  \n",
       "199       17          22  18950  \n",
       "200       23          28  16845  \n",
       "201       19          25  19045  \n",
       "202       18          23  21485  \n",
       "203       26          27  22470  \n",
       "204       19          25  22625  \n",
       "\n",
       "[10 rows x 26 columns]"
      ]
     },
     "execution_count": 4,
     "metadata": {},
     "output_type": "execute_result"
    }
   ],
   "source": [
    "#display last 10 rows from data\n",
    "df.tail(10)"
   ]
  },
  {
   "cell_type": "code",
   "execution_count": 5,
   "id": "68038f10-57d4-4681-b3ca-c4ea2716434f",
   "metadata": {},
   "outputs": [
    {
     "name": "stdout",
     "output_type": "stream",
     "text": [
      "['normalized-losses', 'num-of-doors', 'bore', 'stroke', 'horsepower', 'peak-rpm', 'price']\n"
     ]
    }
   ],
   "source": [
    "#there are 204 total rows\n",
    "#there are 20 attributes\n",
    "#it includes int, float, and str types (numeric attributes, categorical attributes)\n",
    "#mask = df.isin(['?'])\n",
    "\n",
    "rows_with_q = [col for col in df.columns if df[col].astype(str).str.contains(r'\\?').any()]\n",
    "print(rows_with_q)"
   ]
  },
  {
   "cell_type": "code",
   "execution_count": 6,
   "id": "0caf0eee-61c1-4b9e-8868-196340933464",
   "metadata": {},
   "outputs": [
    {
     "name": "stdout",
     "output_type": "stream",
     "text": [
      "     symboling normalized-losses         make fuel-type aspiration  \\\n",
      "0            3             122.0  alfa-romero       gas        std   \n",
      "1            3             122.0  alfa-romero       gas        std   \n",
      "2            1             122.0  alfa-romero       gas        std   \n",
      "3            2               164         audi       gas        std   \n",
      "4            2               164         audi       gas        std   \n",
      "..         ...               ...          ...       ...        ...   \n",
      "200         -1                95        volvo       gas        std   \n",
      "201         -1                95        volvo       gas      turbo   \n",
      "202         -1                95        volvo       gas        std   \n",
      "203         -1                95        volvo    diesel      turbo   \n",
      "204         -1                95        volvo       gas      turbo   \n",
      "\n",
      "    num-of-doors   body-style drive-wheels engine-location  wheel-base  ...  \\\n",
      "0            two  convertible          rwd           front        88.6  ...   \n",
      "1            two  convertible          rwd           front        88.6  ...   \n",
      "2            two    hatchback          rwd           front        94.5  ...   \n",
      "3           four        sedan          fwd           front        99.8  ...   \n",
      "4           four        sedan          4wd           front        99.4  ...   \n",
      "..           ...          ...          ...             ...         ...  ...   \n",
      "200         four        sedan          rwd           front       109.1  ...   \n",
      "201         four        sedan          rwd           front       109.1  ...   \n",
      "202         four        sedan          rwd           front       109.1  ...   \n",
      "203         four        sedan          rwd           front       109.1  ...   \n",
      "204         four        sedan          rwd           front       109.1  ...   \n",
      "\n",
      "     engine-size  fuel-system  bore  stroke compression-ratio horsepower  \\\n",
      "0            130         mpfi  3.47    2.68               9.0        111   \n",
      "1            130         mpfi  3.47    2.68               9.0        111   \n",
      "2            152         mpfi  2.68    3.47               9.0        154   \n",
      "3            109         mpfi  3.19     3.4              10.0        102   \n",
      "4            136         mpfi  3.19     3.4               8.0        115   \n",
      "..           ...          ...   ...     ...               ...        ...   \n",
      "200          141         mpfi  3.78    3.15               9.5        114   \n",
      "201          141         mpfi  3.78    3.15               8.7        160   \n",
      "202          173         mpfi  3.58    2.87               8.8        134   \n",
      "203          145          idi  3.01     3.4              23.0        106   \n",
      "204          141         mpfi  3.78    3.15               9.5        114   \n",
      "\n",
      "     peak-rpm city-mpg highway-mpg  price  \n",
      "0        5000       21          27  13495  \n",
      "1        5000       21          27  16500  \n",
      "2        5000       19          26  16500  \n",
      "3        5500       24          30  13950  \n",
      "4        5500       18          22  17450  \n",
      "..        ...      ...         ...    ...  \n",
      "200      5400       23          28  16845  \n",
      "201      5300       19          25  19045  \n",
      "202      5500       18          23  21485  \n",
      "203      4800       26          27  22470  \n",
      "204      5400       19          25  22625  \n",
      "\n",
      "[205 rows x 26 columns]\n"
     ]
    }
   ],
   "source": [
    "#calculate mean of known values in a row\n",
    "def calc_known_mean(row):\n",
    "    used_rows = df[df[row] != '?']\n",
    "    used_mean = used_rows[row].astype('float').mean()\n",
    "    df[row] = df[row].replace('?', str(used_mean))\n",
    "    \n",
    "\n",
    "calc_known_mean('normalized-losses')\n",
    "print(df)"
   ]
  },
  {
   "cell_type": "code",
   "execution_count": 7,
   "id": "a5bbc9db-2e9d-4a33-9929-04e5428cb1ba",
   "metadata": {},
   "outputs": [
    {
     "name": "stdout",
     "output_type": "stream",
     "text": [
      "['convertible', 'convertible', 'hatchback', 'sedan', 'sedan', 'sedan', 'sedan', 'wagon', 'sedan', 'hatchback', 'sedan', 'sedan', 'sedan', 'sedan', 'sedan', 'sedan', 'sedan', 'sedan', 'hatchback', 'hatchback', 'sedan', 'hatchback', 'hatchback', 'hatchback', 'hatchback', 'sedan', 'sedan', 'sedan', 'wagon', 'hatchback', 'hatchback', 'hatchback', 'hatchback', 'hatchback', 'hatchback', 'sedan', 'wagon', 'hatchback', 'hatchback', 'sedan', 'sedan', 'sedan', 'sedan', 'sedan', 'sedan', 'sedan', 'hatchback', 'sedan', 'sedan', 'sedan', 'hatchback', 'hatchback', 'hatchback', 'sedan', 'sedan', 'hatchback', 'hatchback', 'hatchback', 'hatchback', 'hatchback', 'sedan', 'hatchback', 'sedan', 'sedan', 'hatchback', 'sedan', 'sedan', 'sedan', 'wagon', 'hardtop', 'sedan', 'sedan', 'convertible', 'sedan', 'hardtop', 'hatchback', 'hatchback', 'hatchback', 'hatchback', 'hatchback', 'hatchback', 'hatchback', 'hatchback', 'hatchback', 'hatchback', 'sedan', 'sedan', 'sedan', 'sedan', 'sedan', 'sedan', 'sedan', 'sedan', 'wagon', 'sedan', 'hatchback', 'sedan', 'wagon', 'hardtop', 'hatchback', 'sedan', 'sedan', 'wagon', 'sedan', 'hatchback', 'hatchback', 'hatchback', 'sedan', 'sedan', 'wagon', 'wagon', 'sedan', 'sedan', 'wagon', 'wagon', 'sedan', 'sedan', 'sedan', 'hatchback', 'hatchback', 'hatchback', 'sedan', 'sedan', 'wagon', 'hatchback', 'hatchback', 'hardtop', 'hardtop', 'convertible', 'hatchback', 'wagon', 'hatchback', 'hatchback', 'sedan', 'hatchback', 'sedan', 'hatchback', 'sedan', 'hatchback', 'hatchback', 'hatchback', 'sedan', 'sedan', 'sedan', 'sedan', 'sedan', 'wagon', 'wagon', 'wagon', 'wagon', 'hatchback', 'hatchback', 'hatchback', 'wagon', 'wagon', 'wagon', 'sedan', 'hatchback', 'sedan', 'hatchback', 'sedan', 'hatchback', 'sedan', 'sedan', 'hatchback', 'sedan', 'hatchback', 'hardtop', 'hardtop', 'hatchback', 'hardtop', 'hatchback', 'convertible', 'sedan', 'sedan', 'hatchback', 'sedan', 'hatchback', 'hatchback', 'hatchback', 'sedan', 'wagon', 'sedan', 'sedan', 'sedan', 'sedan', 'sedan', 'sedan', 'sedan', 'convertible', 'hatchback', 'sedan', 'sedan', 'wagon', 'sedan', 'wagon', 'sedan', 'wagon', 'sedan', 'wagon', 'sedan', 'sedan', 'sedan', 'sedan', 'sedan']\n"
     ]
    }
   ],
   "source": [
    "#get list of body styles\n",
    "body_styles = df['body-style']\n",
    "body_list = body_styles.tolist()\n",
    "print(body_list)"
   ]
  },
  {
   "cell_type": "code",
   "execution_count": 8,
   "id": "702fecec-bb00-4563-9698-016669cde1c5",
   "metadata": {},
   "outputs": [
    {
     "name": "stdout",
     "output_type": "stream",
     "text": [
      "     symboling normalized-losses         make fuel-type aspiration  \\\n",
      "0            3             122.0  alfa-romero       gas        std   \n",
      "1            3             122.0  alfa-romero       gas        std   \n",
      "2            1             122.0  alfa-romero       gas        std   \n",
      "3            2               164         audi       gas        std   \n",
      "4            2               164         audi       gas        std   \n",
      "..         ...               ...          ...       ...        ...   \n",
      "200         -1                95        volvo       gas        std   \n",
      "201         -1                95        volvo       gas      turbo   \n",
      "202         -1                95        volvo       gas        std   \n",
      "203         -1                95        volvo    diesel      turbo   \n",
      "204         -1                95        volvo       gas      turbo   \n",
      "\n",
      "    num-of-doors   body-style drive-wheels engine-location  wheel-base  ...  \\\n",
      "0            two  convertible          rwd           front        88.6  ...   \n",
      "1            two  convertible          rwd           front        88.6  ...   \n",
      "2            two    hatchback          rwd           front        94.5  ...   \n",
      "3           four        sedan          fwd           front        99.8  ...   \n",
      "4           four        sedan          4wd           front        99.4  ...   \n",
      "..           ...          ...          ...             ...         ...  ...   \n",
      "200         four        sedan          rwd           front       109.1  ...   \n",
      "201         four        sedan          rwd           front       109.1  ...   \n",
      "202         four        sedan          rwd           front       109.1  ...   \n",
      "203         four        sedan          rwd           front       109.1  ...   \n",
      "204         four        sedan          rwd           front       109.1  ...   \n",
      "\n",
      "     engine-size  fuel-system  bore  stroke compression-ratio horsepower  \\\n",
      "0            130         mpfi  3.47    2.68               9.0        111   \n",
      "1            130         mpfi  3.47    2.68               9.0        111   \n",
      "2            152         mpfi  2.68    3.47               9.0        154   \n",
      "3            109         mpfi  3.19     3.4              10.0        102   \n",
      "4            136         mpfi  3.19     3.4               8.0        115   \n",
      "..           ...          ...   ...     ...               ...        ...   \n",
      "200          141         mpfi  3.78    3.15               9.5        114   \n",
      "201          141         mpfi  3.78    3.15               8.7        160   \n",
      "202          173         mpfi  3.58    2.87               8.8        134   \n",
      "203          145          idi  3.01     3.4              23.0        106   \n",
      "204          141         mpfi  3.78    3.15               9.5        114   \n",
      "\n",
      "     peak-rpm city-mpg highway-mpg  price  \n",
      "0        5000       21          27  13495  \n",
      "1        5000       21          27  16500  \n",
      "2        5000       19          26  16500  \n",
      "3        5500       24          30  13950  \n",
      "4        5500       18          22  17450  \n",
      "..        ...      ...         ...    ...  \n",
      "200      5400       23          28  16845  \n",
      "201      5300       19          25  19045  \n",
      "202      5500       18          23  21485  \n",
      "203      4800       26          27  22470  \n",
      "204      5400       19          25  22625  \n",
      "\n",
      "[205 rows x 26 columns]\n"
     ]
    }
   ],
   "source": [
    "#if car is a sedan, change number of doors to four\n",
    "df['num-of-doors'] = df.apply(lambda row: 'four' if row['body-style'] == 'sedan' and row['num-of-doors'] == '?' else row['num-of-doors'], axis=1)\n",
    "print(df)"
   ]
  },
  {
   "cell_type": "code",
   "execution_count": 9,
   "id": "b8305e6c-65ff-4017-9e3b-0d92f06cc045",
   "metadata": {},
   "outputs": [
    {
     "name": "stdout",
     "output_type": "stream",
     "text": [
      "     symboling normalized-losses         make fuel-type aspiration  \\\n",
      "0            3             122.0  alfa-romero       gas        std   \n",
      "1            3             122.0  alfa-romero       gas        std   \n",
      "2            1             122.0  alfa-romero       gas        std   \n",
      "3            2               164         audi       gas        std   \n",
      "4            2               164         audi       gas        std   \n",
      "..         ...               ...          ...       ...        ...   \n",
      "200         -1                95        volvo       gas        std   \n",
      "201         -1                95        volvo       gas      turbo   \n",
      "202         -1                95        volvo       gas        std   \n",
      "203         -1                95        volvo    diesel      turbo   \n",
      "204         -1                95        volvo       gas      turbo   \n",
      "\n",
      "    num-of-doors   body-style drive-wheels engine-location  wheel-base  ...  \\\n",
      "0            two  convertible          rwd           front        88.6  ...   \n",
      "1            two  convertible          rwd           front        88.6  ...   \n",
      "2            two    hatchback          rwd           front        94.5  ...   \n",
      "3           four        sedan          fwd           front        99.8  ...   \n",
      "4           four        sedan          4wd           front        99.4  ...   \n",
      "..           ...          ...          ...             ...         ...  ...   \n",
      "200         four        sedan          rwd           front       109.1  ...   \n",
      "201         four        sedan          rwd           front       109.1  ...   \n",
      "202         four        sedan          rwd           front       109.1  ...   \n",
      "203         four        sedan          rwd           front       109.1  ...   \n",
      "204         four        sedan          rwd           front       109.1  ...   \n",
      "\n",
      "     engine-size  fuel-system  bore  stroke compression-ratio horsepower  \\\n",
      "0            130         mpfi  3.47    2.68               9.0        111   \n",
      "1            130         mpfi  3.47    2.68               9.0        111   \n",
      "2            152         mpfi  2.68    3.47               9.0        154   \n",
      "3            109         mpfi  3.19     3.4              10.0        102   \n",
      "4            136         mpfi  3.19     3.4               8.0        115   \n",
      "..           ...          ...   ...     ...               ...        ...   \n",
      "200          141         mpfi  3.78    3.15               9.5        114   \n",
      "201          141         mpfi  3.78    3.15               8.7        160   \n",
      "202          173         mpfi  3.58    2.87               8.8        134   \n",
      "203          145          idi  3.01     3.4              23.0        106   \n",
      "204          141         mpfi  3.78    3.15               9.5        114   \n",
      "\n",
      "     peak-rpm city-mpg highway-mpg  price  \n",
      "0        5000       21          27  13495  \n",
      "1        5000       21          27  16500  \n",
      "2        5000       19          26  16500  \n",
      "3        5500       24          30  13950  \n",
      "4        5500       18          22  17450  \n",
      "..        ...      ...         ...    ...  \n",
      "200      5400       23          28  16845  \n",
      "201      5300       19          25  19045  \n",
      "202      5500       18          23  21485  \n",
      "203      4800       26          27  22470  \n",
      "204      5400       19          25  22625  \n",
      "\n",
      "[205 rows x 26 columns]\n"
     ]
    }
   ],
   "source": [
    "#replace missing columns from data\n",
    "calc_known_mean('bore')\n",
    "calc_known_mean('stroke')\n",
    "calc_known_mean('price')\n",
    "calc_known_mean('horsepower')\n",
    "calc_known_mean('peak-rpm')\n",
    "print(df)"
   ]
  },
  {
   "cell_type": "code",
   "execution_count": 10,
   "id": "990a137a-725f-4911-8bc3-ae174a1658cc",
   "metadata": {},
   "outputs": [
    {
     "name": "stdout",
     "output_type": "stream",
     "text": [
      "Empty DataFrame\n",
      "Columns: [symboling, normalized-losses, make, fuel-type, aspiration, num-of-doors, body-style, drive-wheels, engine-location, wheel-base, length, width, height, curb-weight, engine-type, num-of-cylinders, engine-size, fuel-system, bore, stroke, compression-ratio, horsepower, peak-rpm, city-mpg, highway-mpg, price]\n",
      "Index: []\n",
      "\n",
      "[0 rows x 26 columns]\n"
     ]
    }
   ],
   "source": [
    "#check for undefined values\n",
    "mask = df.isin(['?'])\n",
    "\n",
    "rows_with_q = df[mask.any(axis=1)]\n",
    "print(rows_with_q)"
   ]
  },
  {
   "cell_type": "code",
   "execution_count": 11,
   "id": "6af569e2-9c7c-49df-b557-0dd2fbc8accc",
   "metadata": {},
   "outputs": [
    {
     "data": {
      "text/plain": [
       "<Axes: xlabel='Normalized Losses', ylabel='Frequency'>"
      ]
     },
     "execution_count": 11,
     "metadata": {},
     "output_type": "execute_result"
    },
    {
     "data": {
      "image/png": "[encoded data removed]",
      "text/plain": [
       "<Figure size 640x480 with 1 Axes>"
      ]
     },
     "metadata": {},
     "output_type": "display_data"
    }
   ],
   "source": [
    "#convert to numeric\n",
    "df['normalized-losses'] = pd.to_numeric(df['normalized-losses'])\n",
    "\n",
    "#plot normalized losses\n",
    "df['normalized-losses'].plot.hist(xlabel='Normalized Losses')\n"
   ]
  },
  {
   "cell_type": "code",
   "execution_count": 12,
   "id": "948e9920",
   "metadata": {},
   "outputs": [
    {
     "data": {
      "text/plain": [
       "<Axes: xlabel='Wheel Base', ylabel='Frequency'>"
      ]
     },
     "execution_count": 12,
     "metadata": {},
     "output_type": "execute_result"
    },
    {
     "data": {
      "image/png": "[encoded data removed]",
      "text/plain": [
       "<Figure size 640x480 with 1 Axes>"
      ]
     },
     "metadata": {},
     "output_type": "display_data"
    }
   ],
   "source": [
    "#convert to numeric\n",
    "df['wheel-base'] = pd.to_numeric(df['wheel-base'])\n",
    "\n",
    "#plot histogram\n",
    "df['wheel-base'].plot.hist(xlabel='Wheel Base')\n"
   ]
  },
  {
   "cell_type": "code",
   "execution_count": 13,
   "id": "928634d6",
   "metadata": {},
   "outputs": [
    {
     "data": {
      "text/plain": [
       "<Axes: xlabel='Curb Weight', ylabel='Frequency'>"
      ]
     },
     "execution_count": 13,
     "metadata": {},
     "output_type": "execute_result"
    },
    {
     "data": {
      "image/png": "[encoded data removed]",
      "text/plain": [
       "<Figure size 640x480 with 1 Axes>"
      ]
     },
     "metadata": {},
     "output_type": "display_data"
    }
   ],
   "source": [
    "#convert  to numeric\n",
    "df['curb-weight'] = pd.to_numeric(df['curb-weight'])\n",
    "\n",
    "#plot curb-weight histogram\n",
    "df['curb-weight'].plot.hist(xlabel='Curb Weight')"
   ]
  },
  {
   "cell_type": "code",
   "execution_count": 14,
   "id": "bcfcb5f5",
   "metadata": {},
   "outputs": [
    {
     "data": {
      "text/plain": [
       "<Axes: xlabel='City MPG', ylabel='Frequency'>"
      ]
     },
     "execution_count": 14,
     "metadata": {},
     "output_type": "execute_result"
    },
    {
     "data": {
      "image/png": "[encoded data removed]",
      "text/plain": [
       "<Figure size 640x480 with 1 Axes>"
      ]
     },
     "metadata": {},
     "output_type": "display_data"
    }
   ],
   "source": [
    "#convert to numeric\n",
    "df['city-mpg'] = pd.to_numeric(df['city-mpg'])\n",
    "\n",
    "#plot histogram\n",
    "df['city-mpg'].plot.hist(xlabel='City MPG')"
   ]
  },
  {
   "cell_type": "code",
   "execution_count": 15,
   "id": "e1072be9",
   "metadata": {},
   "outputs": [
    {
     "data": {
      "text/plain": [
       "<Axes: xlabel='Highway MPG', ylabel='Frequency'>"
      ]
     },
     "execution_count": 15,
     "metadata": {},
     "output_type": "execute_result"
    },
    {
     "data": {
      "image/png": "[encoded data removed]",
      "text/plain": [
       "<Figure size 640x480 with 1 Axes>"
      ]
     },
     "metadata": {},
     "output_type": "display_data"
    }
   ],
   "source": [
    "#conver to numeric\n",
    "df['highway-mpg'] = pd.to_numeric(df['highway-mpg'])\n",
    "\n",
    "#plot histogram\n",
    "df['highway-mpg'].plot.hist(xlabel='Highway MPG')"
   ]
  },
  {
   "cell_type": "code",
   "execution_count": 16,
   "id": "9b7312c6-18db-4d8e-963b-8c03a323609f",
   "metadata": {},
   "outputs": [
    {
     "data": {
      "text/plain": [
       "<Axes: xlabel='fuel-type'>"
      ]
     },
     "execution_count": 16,
     "metadata": {},
     "output_type": "execute_result"
    },
    {
     "data": {
      "image/png": "[encoded data removed]",
      "text/plain": [
       "<Figure size 640x480 with 1 Axes>"
      ]
     },
     "metadata": {},
     "output_type": "display_data"
    }
   ],
   "source": [
    "#count different types in fuel-type\n",
    "fuel_counts = df['fuel-type'].value_counts()\n",
    "\n",
    "#plot the counts\n",
    "fuel_counts.plot(kind='bar')"
   ]
  },
  {
   "cell_type": "code",
   "execution_count": 17,
   "id": "890c3173-7b30-4514-af8d-293cc4067c0b",
   "metadata": {},
   "outputs": [
    {
     "data": {
      "text/plain": [
       "<Axes: xlabel='make'>"
      ]
     },
     "execution_count": 17,
     "metadata": {},
     "output_type": "execute_result"
    },
    {
     "data": {
      "image/png": "[encoded data removed]",
      "text/plain": [
       "<Figure size 640x480 with 1 Axes>"
      ]
     },
     "metadata": {},
     "output_type": "display_data"
    }
   ],
   "source": [
    "#count the different makes of car\n",
    "make_counts = df['make'].value_counts()\n",
    "\n",
    "#plot the counts\n",
    "make_counts.plot(kind='bar')"
   ]
  },
  {
   "cell_type": "code",
   "execution_count": 18,
   "id": "af87742f-e5e3-47c8-9e22-8ee528331dd0",
   "metadata": {},
   "outputs": [
    {
     "data": {
      "text/plain": [
       "<Axes: xlabel='body-style'>"
      ]
     },
     "execution_count": 18,
     "metadata": {},
     "output_type": "execute_result"
    },
    {
     "data": {
      "image/png": "[encoded data removed]",
      "text/plain": [
       "<Figure size 640x480 with 1 Axes>"
      ]
     },
     "metadata": {},
     "output_type": "display_data"
    }
   ],
   "source": [
    "#count the types of bodies\n",
    "body_counts = df['body-style'].value_counts()\n",
    "\n",
    "#plot the bodies\n",
    "body_counts.plot(kind='bar')"
   ]
  },
  {
   "cell_type": "code",
   "execution_count": 19,
   "id": "098b170c-c11e-4c20-a983-91c6fe229d06",
   "metadata": {},
   "outputs": [
    {
     "data": {
      "text/plain": [
       "<Axes: xlabel='engine-size', ylabel='horsepower'>"
      ]
     },
     "execution_count": 19,
     "metadata": {},
     "output_type": "execute_result"
    },
    {
     "data": {
      "image/png": "[encoded data removed]",
      "text/plain": [
       "<Figure size 640x480 with 1 Axes>"
      ]
     },
     "metadata": {},
     "output_type": "display_data"
    }
   ],
   "source": [
    "#convert all numbers to numeric\n",
    "df['engine-size'] = pd.to_numeric(df['engine-size'])\n",
    "df['horsepower'] = pd.to_numeric(df['horsepower'])\n",
    "\n",
    "# plot engine-size to horsepower\n",
    "df.plot.scatter(x='engine-size', y='horsepower')"
   ]
  },
  {
   "cell_type": "code",
   "execution_count": 20,
   "id": "e8e77853-71f3-422a-9814-b40ffe9120bf",
   "metadata": {},
   "outputs": [
    {
     "data": {
      "text/plain": [
       "<Axes: xlabel='city-mpg', ylabel='price'>"
      ]
     },
     "execution_count": 20,
     "metadata": {},
     "output_type": "execute_result"
    },
    {
     "data": {
      "image/png": "[encoded data removed]",
      "text/plain": [
       "<Figure size 640x480 with 1 Axes>"
      ]
     },
     "metadata": {},
     "output_type": "display_data"
    }
   ],
   "source": [
    "#convert numbers to numeric values\n",
    "df['city-mpg'] = pd.to_numeric(df['city-mpg'])\n",
    "df['price'] = pd.to_numeric(df['price'])\n",
    "\n",
    "#create city-mpg to price scatter plot\n",
    "df.plot.scatter(x='city-mpg', y ='price')"
   ]
  },
  {
   "cell_type": "code",
   "execution_count": 21,
   "id": "2217b3e6-de5b-49de-ad89-9becd9b11727",
   "metadata": {},
   "outputs": [
    {
     "name": "stdout",
     "output_type": "stream",
     "text": [
      "symboling                0.834146\n",
      "normalized-losses      122.000000\n",
      "wheel-base              98.756585\n",
      "length                 174.049268\n",
      "width                   65.907805\n",
      "height                  53.724878\n",
      "curb-weight           2555.565854\n",
      "engine-size            126.907317\n",
      "compression-ratio       10.142537\n",
      "horsepower             104.256158\n",
      "city-mpg                25.219512\n",
      "highway-mpg             30.751220\n",
      "price                13207.129353\n",
      "dtype: float64\n"
     ]
    }
   ],
   "source": [
    "#get all columns with numeric values\n",
    "numeric_df = df.select_dtypes(include=np.number)\n",
    "\n",
    "#calculate mean of columns if the data is numeric\n",
    "column_means = numeric_df.mean()\n",
    "\n",
    "#display the means for each column\n",
    "print(column_means)\n",
    "    "
   ]
  },
  {
   "cell_type": "code",
   "execution_count": 22,
   "id": "58bd00bf-50c0-4134-b59f-447ea31dbb3b",
   "metadata": {},
   "outputs": [
    {
     "name": "stdout",
     "output_type": "stream",
     "text": [
      "                       symboling  normalized-losses    wheel-base  \\\n",
      "symboling             316.360976            3744.00 -8.137761e+02   \n",
      "normalized-losses    3744.000000          204752.00 -2.199600e+03   \n",
      "wheel-base           -813.776098           -2199.60  7.397404e+03   \n",
      "length              -1120.824878            1531.60  1.325494e+04   \n",
      "width                -126.934634            1167.30  2.095409e+03   \n",
      "height               -335.854146           -5854.30  1.769321e+03   \n",
      "curb-weight        -30117.760976          329059.00  4.965965e+05   \n",
      "engine-size         -1119.151220           29873.00  2.912438e+04   \n",
      "compression-ratio    -180.133756           -2939.96  1.218811e+03   \n",
      "horsepower            716.709360           51959.00  1.708650e+04   \n",
      "city-mpg              -59.536585           -9249.00 -3.780546e+03   \n",
      "highway-mpg            60.541463           -7932.00 -4.602714e+03   \n",
      "price             -164320.860697         6814541.00  5.637094e+06   \n",
      "\n",
      "                         length         width         height   curb-weight  \\\n",
      "symboling         -1.120825e+03 -1.269346e+02    -335.854146 -3.011776e+04   \n",
      "normalized-losses  1.531600e+03  1.167300e+03   -5854.300000  3.290590e+05   \n",
      "wheel-base         1.325494e+04  2.095409e+03    1769.321415  4.965965e+05   \n",
      "length             3.105057e+04  4.541251e+03    3019.768732  1.150221e+06   \n",
      "width              4.541251e+03  9.387875e+02     298.570195  1.975628e+05   \n",
      "height             3.019769e+03  2.985702e+02    1218.043122  7.671501e+04   \n",
      "curb-weight        1.150221e+06  1.975628e+05   76715.014146  5.530601e+07   \n",
      "engine-size        7.162064e+04  1.340235e+04    1393.872683  3.762378e+06   \n",
      "compression-ratio  1.583639e+03  3.148469e+02     517.198063  6.386031e+04   \n",
      "horsepower         5.514525e+04  1.110642e+04   -2169.641872  3.152326e+06   \n",
      "city-mpg          -1.104672e+04 -1.840051e+03    -158.619512 -5.263255e+05   \n",
      "highway-mpg       -1.221309e+04 -2.040902e+03    -368.531220 -5.833211e+05   \n",
      "price              1.352598e+07  2.509306e+06  527123.166667  6.860542e+08   \n",
      "\n",
      "                    engine-size  compression-ratio    horsepower  \\\n",
      "symboling         -1.119151e+03        -180.133756  7.167094e+02   \n",
      "normalized-losses  2.987300e+04       -2939.960000  5.195900e+04   \n",
      "wheel-base         2.912438e+04        1218.810576  1.708650e+04   \n",
      "length             7.162064e+04        1583.639380  5.514525e+04   \n",
      "width              1.340235e+04         314.846941  1.110642e+04   \n",
      "height             1.393873e+03         517.198063 -2.169642e+03   \n",
      "curb-weight        3.762378e+06       63860.305756  3.152326e+06   \n",
      "engine-size        3.537592e+05         977.578195  2.721724e+05   \n",
      "compression-ratio  9.775782e+02        3218.529281 -6.588251e+03   \n",
      "horsepower         2.721724e+05       -6588.250936  3.186007e+05   \n",
      "city-mpg          -3.632783e+04        1721.265854 -4.236055e+04   \n",
      "highway-mpg       -3.963273e+04        1479.839366 -4.279894e+04   \n",
      "price              5.760473e+07      452636.908756  4.808026e+07   \n",
      "\n",
      "                       city-mpg   highway-mpg         price  \n",
      "symboling         -5.953659e+01  6.054146e+01 -1.643209e+05  \n",
      "normalized-losses -9.249000e+03 -7.932000e+03  6.814541e+06  \n",
      "wheel-base        -3.780546e+03 -4.602714e+03  5.637094e+06  \n",
      "length            -1.104672e+04 -1.221309e+04  1.352598e+07  \n",
      "width             -1.840051e+03 -2.040902e+03  2.509306e+06  \n",
      "height            -1.586195e+02 -3.685312e+02  5.271232e+05  \n",
      "curb-weight       -5.263255e+05 -5.833211e+05  6.860542e+08  \n",
      "engine-size       -3.632783e+04 -3.963273e+04  5.760473e+07  \n",
      "compression-ratio  1.721266e+03  1.479839e+03  4.526369e+05  \n",
      "horsepower        -4.236055e+04 -4.279894e+04  4.808026e+07  \n",
      "city-mpg           8.731122e+03  8.927195e+03 -7.009308e+06  \n",
      "highway-mpg        8.927195e+03  9.674312e+03 -7.633290e+06  \n",
      "price             -7.009308e+06 -7.633290e+06  1.263117e+10  \n"
     ]
    }
   ],
   "source": [
    "#calculated demeaned matrix\n",
    "center_df = numeric_df - numeric_df.mean()\n",
    "#print(center_df)\n",
    "\n",
    "#calculate inner products\n",
    "inner_prod = center_df.T.dot(center_df)\n",
    "print(inner_prod)"
   ]
  },
  {
   "cell_type": "code",
   "execution_count": 23,
   "id": "bce8f876",
   "metadata": {},
   "outputs": [
    {
     "name": "stdout",
     "output_type": "stream",
     "text": [
      "[[ 2.63634146e+01  3.12000000e+02 -6.78146748e+01 -9.34020732e+01\n",
      "  -1.05778862e+01 -2.79878455e+01 -2.50981341e+03 -9.32626016e+01\n",
      "  -1.50111463e+01  5.97257800e+01 -4.96138211e+00  5.04512195e+00\n",
      "  -1.36934051e+04]\n",
      " [ 3.12000000e+02  1.70626667e+04 -1.83300000e+02  1.27633333e+02\n",
      "   9.72750000e+01 -4.87858333e+02  2.74215833e+04  2.48941667e+03\n",
      "  -2.44996667e+02  4.32991667e+03 -7.70750000e+02 -6.61000000e+02\n",
      "   5.67878417e+05]\n",
      " [-6.78146748e+01 -1.83300000e+02  6.16450301e+02  1.10457821e+03\n",
      "   1.74617455e+02  1.47443451e+02  4.13830447e+04  2.42703126e+03\n",
      "   1.01567548e+02  1.42387471e+03 -3.15045528e+02 -3.83559512e+02\n",
      "   4.69757848e+05]\n",
      " [-9.34020732e+01  1.27633333e+02  1.10457821e+03  2.58754770e+03\n",
      "   3.78437598e+02  2.51647394e+02  9.58517154e+04  5.96838634e+03\n",
      "   1.31969948e+02  4.59543760e+03 -9.20559756e+02 -1.01775728e+03\n",
      "   1.12716471e+06]\n",
      " [-1.05778862e+01  9.72750000e+01  1.74617455e+02  3.78437598e+02\n",
      "   7.82322927e+01  2.48808496e+01  1.64635662e+04  1.11686236e+03\n",
      "   2.62372451e+01  9.25535263e+02 -1.53337602e+02 -1.70075163e+02\n",
      "   2.09108799e+05]\n",
      " [-2.79878455e+01 -4.87858333e+02  1.47443451e+02  2.51647394e+02\n",
      "   2.48808496e+01  1.01503593e+02  6.39291785e+03  1.16156057e+02\n",
      "   4.30998386e+01 -1.80803489e+02 -1.32182927e+01 -3.07109350e+01\n",
      "   4.39269306e+04]\n",
      " [-2.50981341e+03  2.74215833e+04  4.13830447e+04  9.58517154e+04\n",
      "   1.64635662e+04  6.39291785e+03  4.60883386e+06  3.13531479e+05\n",
      "   5.32169215e+03  2.62693842e+05 -4.38604553e+04 -4.86100951e+04\n",
      "   5.71711824e+07]\n",
      " [-9.32626016e+01  2.48941667e+03  2.42703126e+03  5.96838634e+03\n",
      "   1.11686236e+03  1.16156057e+02  3.13531479e+05  2.94799366e+04\n",
      "   8.14648496e+01  2.26810357e+04 -3.02731911e+03 -3.30272724e+03\n",
      "   4.80039427e+06]\n",
      " [-1.50111463e+01 -2.44996667e+02  1.01567548e+02  1.31969948e+02\n",
      "   2.62372451e+01  4.30998386e+01  5.32169215e+03  8.14648496e+01\n",
      "   2.68210773e+02 -5.49020911e+02  1.43438821e+02  1.23319947e+02\n",
      "   3.77197424e+04]\n",
      " [ 5.97257800e+01  4.32991667e+03  1.42387471e+03  4.59543760e+03\n",
      "   9.25535263e+02 -1.80803489e+02  2.62693842e+05  2.26810357e+04\n",
      "  -5.49020911e+02  2.65500567e+04 -3.53004598e+03 -3.56657800e+03\n",
      "   4.00668833e+06]\n",
      " [-4.96138211e+00 -7.70750000e+02 -3.15045528e+02 -9.20559756e+02\n",
      "  -1.53337602e+02 -1.32182927e+01 -4.38604553e+04 -3.02731911e+03\n",
      "   1.43438821e+02 -3.53004598e+03  7.27593496e+02  7.43932927e+02\n",
      "  -5.84108971e+05]\n",
      " [ 5.04512195e+00 -6.61000000e+02 -3.83559512e+02 -1.01775728e+03\n",
      "  -1.70075163e+02 -3.07109350e+01 -4.86100951e+04 -3.30272724e+03\n",
      "   1.23319947e+02 -3.56657800e+03  7.43932927e+02  8.06192683e+02\n",
      "  -6.36107488e+05]\n",
      " [-1.36934051e+04  5.67878417e+05  4.69757848e+05  1.12716471e+06\n",
      "   2.09108799e+05  4.39269306e+04  5.71711824e+07  4.80039427e+06\n",
      "   3.77197424e+04  4.00668833e+06 -5.84108971e+05 -6.36107488e+05\n",
      "   1.05259772e+09]]\n"
     ]
    }
   ],
   "source": [
    "#find n \n",
    "n = len(column_means)\n",
    "#calculate covariance matrix using inner product\n",
    "#center_df is transposed and dot prodct taken with center_df\n",
    "#divide by length to get covariance\n",
    "cov_matrix = inner_prod/(n-1)\n",
    "\n",
    "print(cov_matrix.values)"
   ]
  },
  {
   "cell_type": "code",
   "execution_count": 24,
   "id": "27e2ecb0-834b-4cee-a184-1b69131c4911",
   "metadata": {
    "scrolled": true
   },
   "outputs": [
    {
     "ename": "NameError",
     "evalue": "name 'i' is not defined",
     "output_type": "error",
     "traceback": [
      "\u001b[1;31m---------------------------------------------------------------------------\u001b[0m",
      "\u001b[1;31mNameError\u001b[0m                                 Traceback (most recent call last)",
      "Cell \u001b[1;32mIn[24], line 9\u001b[0m\n\u001b[0;32m      6\u001b[0m outer_arr \u001b[38;5;241m=\u001b[39m np\u001b[38;5;241m.\u001b[39mzeros((center_df\u001b[38;5;241m.\u001b[39mshape[\u001b[38;5;241m1\u001b[39m], center_df\u001b[38;5;241m.\u001b[39mshape[\u001b[38;5;241m1\u001b[39m]))\n\u001b[0;32m      7\u001b[0m \u001b[38;5;28;01mfor\u001b[39;00m point \u001b[38;5;129;01min\u001b[39;00m \u001b[38;5;28mrange\u001b[39m(center_df\u001b[38;5;241m.\u001b[39mshape[\u001b[38;5;241m0\u001b[39m]):\n\u001b[0;32m      8\u001b[0m     \u001b[38;5;66;03m#find the product of each row\u001b[39;00m\n\u001b[1;32m----> 9\u001b[0m     row \u001b[38;5;241m=\u001b[39m center_df\u001b[38;5;241m.\u001b[39miloc[\u001b[43mi\u001b[49m]\u001b[38;5;241m.\u001b[39mvalues\u001b[38;5;241m.\u001b[39mreshape(\u001b[38;5;241m-\u001b[39m\u001b[38;5;241m1\u001b[39m,\u001b[38;5;241m1\u001b[39m)\n\u001b[0;32m     10\u001b[0m     row_outer \u001b[38;5;241m=\u001b[39m np\u001b[38;5;241m.\u001b[39mouter(row, row)\n\u001b[0;32m     11\u001b[0m     outer_prod\u001b[38;5;241m.\u001b[39mappend(row_outer)\n",
      "\u001b[1;31mNameError\u001b[0m: name 'i' is not defined"
     ]
    }
   ],
   "source": [
    "#calculate outer product\n",
    "\n",
    "#loop through each row in center_df\n",
    "outer_prod = []\n",
    "\n",
    "outer_arr = np.zeros((center_df.shape[1], center_df.shape[1]))\n",
    "for point in range(center_df.shape[0]):\n",
    "    #find the product of each row\n",
    "    row = center_df.iloc[i].values.reshape(-1,1)\n",
    "    row_outer = np.outer(row, row)\n",
    "    outer_prod.append(row_outer)\n",
    "\n",
    "    #add the outer product value to the total\n",
    "    outer_arr += row_outer\n",
    "    \n",
    "    \n",
    "\n",
    "print(outer_prod)\n",
    "\n",
    "\n"
   ]
  },
  {
   "cell_type": "code",
   "execution_count": null,
   "id": "f2e4807e",
   "metadata": {
    "scrolled": true
   },
   "outputs": [],
   "source": [
    "#calculate outer product\n",
    "\n",
    "#loop through each row in center_df\n",
    "outer_prod = []\n",
    "\n",
    "outer_arr = np.zeros((center_df.shape[1], center_df.shape[1]))\n",
    "for i in range(center_df.shape[0]):\n",
    "    #find the product of each row\n",
    "    row = center_df.iloc[i].values.reshape(-1,1)\n",
    "    row_outer = np.outer(row, row)\n",
    "    outer_prod.append(row_outer)\n",
    "\n",
    "    #add the outer product value to the total\n",
    "    outer_arr += row_outer\n",
    "    \n",
    "    \n",
    "\n",
    "print(outer_prod)\n",
    "\n",
    "\n"
   ]
  },
  {
   "cell_type": "code",
   "execution_count": null,
   "id": "c1d65c92-d497-4e38-bb8b-e4556f84df43",
   "metadata": {
    "scrolled": true
   },
   "outputs": [],
   "source": [
    "#divide by length - 1 to find covariance\n",
    "outer_arr = sum(outer_prod)\n",
    "outer_cov = outer_arr/(n-1)\n",
    "\n",
    "print(outer_cov)\n",
    "\n",
    "column_labels = numeric_df.columns\n",
    "cov_matrix_outer = pd.DataFrame(outer_cov, columns=column_labels, index=column_labels)\n",
    "print(cov_matrix_outer)\n",
    "    "
   ]
  },
  {
   "cell_type": "code",
   "execution_count": null,
   "id": "e070290d-087a-4eb7-a062-bcee180b7288",
   "metadata": {
    "scrolled": true
   },
   "outputs": [],
   "source": [
    "#convert matrix to dataframe\n",
    "cov_matrix_inner = pd.DataFrame(cov_matrix, columns=column_labels, index=column_labels)\n",
    "\n",
    "#display data frame calculated using inner product to show it matches the one calculated using outer product\n",
    "print(cov_matrix_inner)"
   ]
  },
  {
   "cell_type": "code",
   "execution_count": null,
   "id": "4d5130ba-c168-44e0-b1be-e7bf1117c08d",
   "metadata": {},
   "outputs": [],
   "source": [
    "#install scikit-learn and import DCA module from sklearn.decomposition\n",
    "!pip install scikit-learn\n",
    "from sklearn.decomposition import PCA"
   ]
  },
  {
   "cell_type": "code",
   "execution_count": null,
   "id": "69c2a03f-97b7-4cb2-8b1c-bbcdc2f023a8",
   "metadata": {},
   "outputs": [],
   "source": [
    "data1=numeric_df.iloc[:,:-1]\n"
   ]
  },
  {
   "cell_type": "code",
   "execution_count": null,
   "id": "c44289c2-04bf-4e51-983a-e154ea6e8441",
   "metadata": {},
   "outputs": [],
   "source": [
    "#set number of components to 4\n",
    "pca = PCA(n_components=4)\n",
    "\n",
    "#fit data without last column to 4 components\n",
    "pca.fit(data1)\n",
    "reduced_data=pca.fit_transform(data1)"
   ]
  },
  {
   "cell_type": "code",
   "execution_count": null,
   "id": "0222c210-fc89-408c-98aa-38ece80e50cf",
   "metadata": {},
   "outputs": [],
   "source": [
    "print(reduced_data.shape)\n",
    "print(data1.shape)"
   ]
  },
  {
   "cell_type": "code",
   "execution_count": null,
   "id": "aef26ed5-5e94-433f-9b1c-418c783a96c3",
   "metadata": {},
   "outputs": [],
   "source": []
  }
 ],
 "metadata": {
  "kernelspec": {
   "display_name": "Python 3 (ipykernel)",
   "language": "python",
   "name": "python3"
  },
  "language_info": {
   "codemirror_mode": {
    "name": "ipython",
    "version": 3
   },
   "file_extension": ".py",
   "mimetype": "text/x-python",
   "name": "python",
   "nbconvert_exporter": "python",
   "pygments_lexer": "ipython3",
   "version": "3.12.7"
  }
 },
 "nbformat": 4,
 "nbformat_minor": 5
}
